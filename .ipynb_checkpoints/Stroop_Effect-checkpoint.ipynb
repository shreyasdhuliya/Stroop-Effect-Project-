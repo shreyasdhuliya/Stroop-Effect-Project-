{
 "cells": [
  {
   "cell_type": "markdown",
   "metadata": {},
   "source": [
    "# Test a Perceptual Phenomenon"
   ]
  },
  {
   "cell_type": "markdown",
   "metadata": {},
   "source": [
    "## Stroop Effect Experiment"
   ]
  },
  {
   "cell_type": "markdown",
   "metadata": {},
   "source": [
    "Stroop effect is the delay in the response time of a task.\n",
    "In the experiment the participants are given two list of words.<br>\n",
    "<ol>\n",
    "    <li>In the first list the words are in harmony  with the colors it suggests, so this test is called the *congruent test*. The response time in reading the list of words is recorded\n",
    "eg.<br>\n",
    "<font color=\"red\"> RED </font> <font color=\"blue\" bgcolor = \"#E6E6FA\"> BLUE </font> <font color=\"orange\"> ORANGE </font> <font color=\"pink\"> PINK </font><br> <font color=\"yellow\"> YELLOW </font> <font color=\"purple\"> PURPLE </font> <font color=\"green\"> GREEN </font> <font color=\"pink\"> PINK </font></li><br><br>\n",
    "    <li>In the second list the words are not in harmony with the name of the color. The participants next are asked to read the second list which is called the *incongruent test*. The response is again recorded for this test\n",
    "<br>\n",
    " <font color=\"red\"> BLUE </font> <font color=\"blue\"> PINK </font> <font color=\"pink\"> YELLOW </font> <font color=\"red\"> PURPLE </font><br> <font color=\"green\"> ORANGE </font> <font color=\"yellow\"> GREEN </font> <font color=\"blue\"> PINK </font><font color=\"blue\"> RED </font> <br></li>\n",
    "</ol>\n",
    " \n",
    " Reference: \n",
    " https://en.wikipedia.org/wiki/Stroop_effect"
   ]
  },
  {
   "cell_type": "markdown",
   "metadata": {},
   "source": [
    "#### Stroop Effect Experiment data \n"
   ]
  },
  {
   "cell_type": "code",
   "execution_count": 35,
   "metadata": {},
   "outputs": [
    {
     "data": {
      "text/html": [
       "<div>\n",
       "<style scoped>\n",
       "    .dataframe tbody tr th:only-of-type {\n",
       "        vertical-align: middle;\n",
       "    }\n",
       "\n",
       "    .dataframe tbody tr th {\n",
       "        vertical-align: top;\n",
       "    }\n",
       "\n",
       "    .dataframe thead th {\n",
       "        text-align: right;\n",
       "    }\n",
       "</style>\n",
       "<table border=\"1\" class=\"dataframe\">\n",
       "  <thead>\n",
       "    <tr style=\"text-align: right;\">\n",
       "      <th></th>\n",
       "      <th>Congruent</th>\n",
       "      <th>Incongruent</th>\n",
       "    </tr>\n",
       "  </thead>\n",
       "  <tbody>\n",
       "    <tr>\n",
       "      <th>0</th>\n",
       "      <td>12.079</td>\n",
       "      <td>19.278</td>\n",
       "    </tr>\n",
       "    <tr>\n",
       "      <th>1</th>\n",
       "      <td>16.791</td>\n",
       "      <td>18.741</td>\n",
       "    </tr>\n",
       "    <tr>\n",
       "      <th>2</th>\n",
       "      <td>9.564</td>\n",
       "      <td>21.214</td>\n",
       "    </tr>\n",
       "    <tr>\n",
       "      <th>3</th>\n",
       "      <td>8.630</td>\n",
       "      <td>15.687</td>\n",
       "    </tr>\n",
       "    <tr>\n",
       "      <th>4</th>\n",
       "      <td>14.669</td>\n",
       "      <td>22.803</td>\n",
       "    </tr>\n",
       "    <tr>\n",
       "      <th>5</th>\n",
       "      <td>12.238</td>\n",
       "      <td>20.878</td>\n",
       "    </tr>\n",
       "    <tr>\n",
       "      <th>6</th>\n",
       "      <td>14.692</td>\n",
       "      <td>24.572</td>\n",
       "    </tr>\n",
       "    <tr>\n",
       "      <th>7</th>\n",
       "      <td>8.987</td>\n",
       "      <td>17.394</td>\n",
       "    </tr>\n",
       "    <tr>\n",
       "      <th>8</th>\n",
       "      <td>9.401</td>\n",
       "      <td>20.762</td>\n",
       "    </tr>\n",
       "    <tr>\n",
       "      <th>9</th>\n",
       "      <td>14.480</td>\n",
       "      <td>26.282</td>\n",
       "    </tr>\n",
       "    <tr>\n",
       "      <th>10</th>\n",
       "      <td>22.328</td>\n",
       "      <td>24.524</td>\n",
       "    </tr>\n",
       "    <tr>\n",
       "      <th>11</th>\n",
       "      <td>15.298</td>\n",
       "      <td>18.644</td>\n",
       "    </tr>\n",
       "    <tr>\n",
       "      <th>12</th>\n",
       "      <td>15.073</td>\n",
       "      <td>17.510</td>\n",
       "    </tr>\n",
       "    <tr>\n",
       "      <th>13</th>\n",
       "      <td>16.929</td>\n",
       "      <td>20.330</td>\n",
       "    </tr>\n",
       "    <tr>\n",
       "      <th>14</th>\n",
       "      <td>18.200</td>\n",
       "      <td>35.255</td>\n",
       "    </tr>\n",
       "    <tr>\n",
       "      <th>15</th>\n",
       "      <td>12.130</td>\n",
       "      <td>22.158</td>\n",
       "    </tr>\n",
       "    <tr>\n",
       "      <th>16</th>\n",
       "      <td>18.495</td>\n",
       "      <td>25.139</td>\n",
       "    </tr>\n",
       "    <tr>\n",
       "      <th>17</th>\n",
       "      <td>10.639</td>\n",
       "      <td>20.429</td>\n",
       "    </tr>\n",
       "    <tr>\n",
       "      <th>18</th>\n",
       "      <td>11.344</td>\n",
       "      <td>17.425</td>\n",
       "    </tr>\n",
       "    <tr>\n",
       "      <th>19</th>\n",
       "      <td>12.369</td>\n",
       "      <td>34.288</td>\n",
       "    </tr>\n",
       "    <tr>\n",
       "      <th>20</th>\n",
       "      <td>12.944</td>\n",
       "      <td>23.894</td>\n",
       "    </tr>\n",
       "    <tr>\n",
       "      <th>21</th>\n",
       "      <td>14.233</td>\n",
       "      <td>17.960</td>\n",
       "    </tr>\n",
       "    <tr>\n",
       "      <th>22</th>\n",
       "      <td>19.710</td>\n",
       "      <td>22.058</td>\n",
       "    </tr>\n",
       "    <tr>\n",
       "      <th>23</th>\n",
       "      <td>16.004</td>\n",
       "      <td>21.157</td>\n",
       "    </tr>\n",
       "  </tbody>\n",
       "</table>\n",
       "</div>"
      ],
      "text/plain": [
       "    Congruent  Incongruent\n",
       "0      12.079       19.278\n",
       "1      16.791       18.741\n",
       "2       9.564       21.214\n",
       "3       8.630       15.687\n",
       "4      14.669       22.803\n",
       "5      12.238       20.878\n",
       "6      14.692       24.572\n",
       "7       8.987       17.394\n",
       "8       9.401       20.762\n",
       "9      14.480       26.282\n",
       "10     22.328       24.524\n",
       "11     15.298       18.644\n",
       "12     15.073       17.510\n",
       "13     16.929       20.330\n",
       "14     18.200       35.255\n",
       "15     12.130       22.158\n",
       "16     18.495       25.139\n",
       "17     10.639       20.429\n",
       "18     11.344       17.425\n",
       "19     12.369       34.288\n",
       "20     12.944       23.894\n",
       "21     14.233       17.960\n",
       "22     19.710       22.058\n",
       "23     16.004       21.157"
      ]
     },
     "execution_count": 35,
     "metadata": {},
     "output_type": "execute_result"
    }
   ],
   "source": [
    "#importing the data \n",
    "\n",
    "import numpy as np\n",
    "import pandas as pd\n",
    "\n",
    "#importing the data as a Dataframe \"df_stroop\" from the csv file\n",
    "df_stroop = pd.read_csv('stroopdata.csv') \n",
    "df_stroop\n",
    "#https://drive.google.com/file/d/0B9Yf01UaIbUgQXpYb2NhZ29yX1U/view"
   ]
  },
  {
   "cell_type": "markdown",
   "metadata": {},
   "source": [
    "### 1. Dependent and Independent variables in the Stroop Effect Experiement"
   ]
  },
  {
   "cell_type": "markdown",
   "metadata": {},
   "source": [
    "The independent variable in the Stroop Effect Experiment: <br>\n",
    "<ol>\n",
    "    <li>Word and color match - in case of the Congruent the color and the text name are the same</li>\n",
    "    <li>Word and color do not match  - In case of the Incongruent the color and the text name are different</li>\n",
    "</ol>\n",
    "<br>\n",
    "The dependent variables are: <br>\n",
    "<ol>\n",
    "    <li>The congruent test is the pre-test which is performed on an individual and incongruent is the post test performed on the same individual, hence these variables are dependent because they are performed by the same individual. The data of pre and post tests are recorded for different individuals. Hence these are dependent samples and are paired.</li>\n",
    "</ol>"
   ]
  },
  {
   "cell_type": "markdown",
   "metadata": {},
   "source": [
    "### 2. Hypothesis and Statistical test for testing the Hypothesis"
   ]
  },
  {
   "cell_type": "markdown",
   "metadata": {},
   "source": [
    "The set of hypotheses for this tasks \n",
    "<ol>\n",
    "     <li> Null hypothesis $$H_O:   \\mu_C =  \\mu_I $$<br>\n",
    "    Null hypothesis: If the congruent test and incongruent test was extended to everybody not just to the samples, then the mean of the congruent test $\\mu_C$ for the population will be the same as the mean the incongruent test $\\mu_I$for everybody. hence \n",
    "         $μ_C -  μ_I = 0$</li>\n",
    "    <li> Alternative hypothesis $$H_a : μ_C ≠  μ_I$$ <br>\n",
    "    The alternative hypothesis suggests that the means of the both responses are different i.e if the congruent and incongruent test was extended to everbody then the mean of both the congruent responses $\\mu_C$ and incongruent responses $\\mu_I$ will not be the same.  i.e belonging to different population set  </li>\n",
    "</ol>\n",
    "The Congruent and incongruent samples are paired. Statistical test to reject the $H_O$ will be done using the \n",
    "**T- test** on two dependent samples. The population mean and standard deviation is not known and the **sample size is small (n = 24)** so t-distribution will be used on these dependent samples to test the null hypothesis H<sub>o</sub>. \n",
    "\n",
    "references:\n",
    "http://data-blog.udacity.com/posts/2016/10/latex-primer/\n",
    "https://jupyter.brynmawr.edu/services/public/dblank/Jupyter%20Notebook%20Users%20Manual.ipynb#4.9-LaTeX-Math"
   ]
  },
  {
   "cell_type": "markdown",
   "metadata": {},
   "source": [
    "### 3. Descriptive statistics regarding this dataset df_stroop"
   ]
  },
  {
   "cell_type": "code",
   "execution_count": 36,
   "metadata": {},
   "outputs": [
    {
     "name": "stdout",
     "output_type": "stream",
     "text": [
      "Congruent_mean,incongruent_mean = 14.051125000000004 22.01591666666667\n",
      "point estimate: -7.964791666666665\n",
      "Md: -7.964791666666667\n",
      "SD: 4.864826910359056\n"
     ]
    }
   ],
   "source": [
    "import math\n",
    "#df_stroop is a DataFrame which stores the data in columns 'congruent' and 'Incongruent'\n",
    "#barxc mean of Congruent responses\n",
    "#barxi mean of Incongruent responses\n",
    "#sample size n = 24\n",
    "n = 24\n",
    "barxc = df_stroop['Congruent'].mean()\n",
    "barxi = df_stroop['Incongruent'].mean()\n",
    "print(\"Congruent_mean,incongruent_mean =\",barxc,barxi)\n",
    "\n",
    "#point_e is a variable which stores point estimate value\n",
    "point_e =  barxc - barxi\n",
    "print(\"point estimate:\",point_e)\n",
    "\n",
    "#Adding a new column 'difference' which stores the value of the difference of Congruent and respective Incongruent values\n",
    "df_stroop['difference'] = df_stroop['Congruent'] - df_stroop['Incongruent']\n",
    "\n",
    "#MUd stores the mean of the difference from the column 'difference'\n",
    "MUd = df_stroop['difference'].mean()\n",
    "print(\"Md:\",MUd)\n",
    "\n",
    "#'difference_sq' stores the squares of the difference of (difference of congruent and incongruent values) - (mean of the differences)\n",
    "df_stroop['difference_sq'] = (df_stroop['difference'] - (-7.964791666666667))**2\n",
    "\n",
    "#SE stores the standard error which is found using Bassel's correction\n",
    "SE = math.sqrt(df_stroop['difference_sq'].sum()/(n-1))\n",
    "print(\"SD:\",SE)\n",
    "\n"
   ]
  },
  {
   "cell_type": "markdown",
   "metadata": {},
   "source": [
    "**Means**<br>\n",
    "Calculating mean of the congruent sample and the mean of incongruent sample(rounding to 2 decimal places)<br>\n",
    "$$\\bar x_C  = 14.05 ,  \\bar x_I = 22.016$$<br>\n",
    "$\\bar x_C$ is the mean of the sample of congruent responses and $\\bar x_I$ is the mean of the sample of Incongruent responses<br><br> \n",
    "**Point Estimate**\n",
    "$$Point Estimate   = \\mu_C - \\mu_I = 14.05 - 22.015 = -7.965$$ \n",
    "\n",
    "Since we have only one sample of size 24 from the population of congruent $\\mu_C = \\bar x_C$ \n",
    "Since we have only one sample of size 24 from the population of Ingongruent $\\mu_I = \\bar x_I$ \n",
    "we will find the standard error of the difference so that we know how it compares with other differences.\n",
    "<br>\n",
    "\n",
    "**Standard deviationn of difference**<br>\n",
    "Since we have a small sample size of 24 the standard deviation of the difference of the congruent and respective Incongruent values will be Standard diaviation \n",
    "$$S_D = \\sqrt{\\frac{\\sum (x_D - \\bar x)^2}{(n-1)}}\\ $$\n",
    "x<sub>D</sub> = differences of congruent and incongruent values<br>\n",
    "$\\bar x$ = mean of the differences of congruent and incongruent values<br>\n",
    "n = sample size = 24<br>\n",
    "since we have just a sample set we can find the S using Bassel's correction to find the standard deviation of the population\n",
    "$$S_D = 4.864$$<br><br>\n"
   ]
  },
  {
   "cell_type": "markdown",
   "metadata": {},
   "source": [
    "### 4. Visualizations that show the distribution of the sample data."
   ]
  },
  {
   "cell_type": "markdown",
   "metadata": {},
   "source": [
    "##### t critical value"
   ]
  },
  {
   "cell_type": "markdown",
   "metadata": {},
   "source": [
    "A significance level of 0.05 will be used to check for the $H_o$. Since we are not trying not find if $\\mu_C > \\mu_I$  or  $\\mu_C < \\mu_I $ i.e we are trying for testing the relationship of the hypothesis in both the direction. Two tail test will be done for n = 24 and degrees of freedom = 23. The critical regions on both the sides will be $\\alpha = 0.025$ on each tail. <br>\n",
    "<img src=\"resources/alpha_025.png\" width=\"420\">\n",
    "    There are **23 degrees of freedom**. For $\\alpha = 0.025$ and 23 degrees of freedom the critical values are -2.069,2.069\n",
    "<img src=\"resources/t_table.png\" width=\"420\">\n",
    "**critical values**\n",
    "<img src=\"resources/alpha_05.png\" width=\"420\">"
   ]
  },
  {
   "cell_type": "markdown",
   "metadata": {},
   "source": [
    "### 5.  Statistical test and the results. "
   ]
  },
  {
   "cell_type": "code",
   "execution_count": 34,
   "metadata": {},
   "outputs": [
    {
     "name": "stdout",
     "output_type": "stream",
     "text": [
      "-8.020706944109957\n"
     ]
    }
   ],
   "source": [
    "#calculating t distribution for paired \n",
    "#point_e stores the point estimate i.e the difference between μc - μi\n",
    "#SE is the standard deviation error using the Bessel's correction\n",
    "#n is the sample size\n",
    "#the variables are declared in third section\n",
    "t = point_e/(SE/math.sqrt(n))\n",
    "print(t)"
   ]
  },
  {
   "cell_type": "markdown",
   "metadata": {},
   "source": [
    "**t distribution for paired samples** \n",
    "$$t = \\frac{\\mu_C - \\mu_I}{\\frac{S} {\\sqrt{n}}}$$\n",
    "$$t = - 8.02$$\n"
   ]
  },
  {
   "cell_type": "markdown",
   "metadata": {},
   "source": [
    "The t statistic is the part of the left critical region. The **$H_o$ is rejected** stating the alternative hypotheis is true $$H_a : μ_C ≠  μ_I$$\n",
    "\n",
    " which states that the participants who took both the congruent test and the incongruent test did much better in response to congruent test.<br> <br>\n",
    "So we can say that the participants takes longer time in the incongurent test <font color=\"red\"> BLUE </font> <font color=\"blue\"> RED </font> than the congruent test <font color=\"blue\"> BLUE </font> <font color=\"red\"> RED </font>.\n",
    "<img src=\"resources/alpha_05_t.png\" width=\"420\">\n",
    "The confidence interval for mean population interval \n",
    "$$CI = M_D \\pm t_critical \\times \\frac{S_D}{\\sqrt{n}}$$\n",
    "CI = confidence interval for $\\mu_C - \\mu_I $. That is confidence interval of the difference mean values of congruent and incongruent.\n",
    "M_D = $\\mu_C - \\mu_I $<br>\n",
    "S_D = standard deviation of the differences = 4.864<br>\n",
    "$t_critical$  = 2.069 (as foiund from the t table when there are 23 degrees of freedom)<br>\n",
    "n = 24<br>\n",
    "\n"
   ]
  },
  {
   "cell_type": "code",
   "execution_count": 25,
   "metadata": {},
   "outputs": [
    {
     "data": {
      "text/plain": [
       "(-5.91021542131028, -10.019367912023053)"
      ]
     },
     "execution_count": 25,
     "metadata": {},
     "output_type": "execute_result"
    }
   ],
   "source": [
    "CI_p = barxc - barxi + 2.069*(SE/math.sqrt(n))\n",
    "CI_n = barxc - barxi - 2.069*(SE/math.sqrt(n))\n",
    "CI_p,CI_n"
   ]
  },
  {
   "cell_type": "markdown",
   "metadata": {},
   "source": [
    "If we round it off to integers The critical intervals = (-10,-6)\n",
    "Which tells that the participant is taking 10 seconds to 6 seconds less time in completing the congruent test than the incongruent test on an average."
   ]
  },
  {
   "cell_type": "markdown",
   "metadata": {},
   "source": [
    "references:\n",
    "https://en.wikipedia.org/wiki/Stroop_effect\n",
    "http://data-blog.udacity.com/posts/2016/10/latex-primer/ \n",
    "https://jupyter.brynmawr.edu/services/public/dblank/Jupyter%20Notebook%20Users%20Manual.ipynb#4.9-LaTeX-Math\n"
   ]
  }
 ],
 "metadata": {
  "kernelspec": {
   "display_name": "Python 3",
   "language": "python",
   "name": "python3"
  },
  "language_info": {
   "codemirror_mode": {
    "name": "ipython",
    "version": 3
   },
   "file_extension": ".py",
   "mimetype": "text/x-python",
   "name": "python",
   "nbconvert_exporter": "python",
   "pygments_lexer": "ipython3",
   "version": "3.6.8"
  }
 },
 "nbformat": 4,
 "nbformat_minor": 2
}
